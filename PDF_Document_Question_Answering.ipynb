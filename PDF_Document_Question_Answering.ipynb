{
  "cells": [
    {
      "cell_type": "code",
      "source": [
        "!pip install -U langchain-community\n"
      ],
      "metadata": {
        "id": "1_OiePixjaqK",
        "outputId": "513f9eb8-e473-45e2-97a5-a95e66146c8a",
        "colab": {
          "base_uri": "https://localhost:8080/"
        }
      },
      "execution_count": 2,
      "outputs": [
        {
          "output_type": "stream",
          "name": "stdout",
          "text": [
            "Collecting langchain-community\n",
            "  Downloading langchain_community-0.3.5-py3-none-any.whl.metadata (2.9 kB)\n",
            "Requirement already satisfied: PyYAML>=5.3 in /usr/local/lib/python3.10/dist-packages (from langchain-community) (6.0.2)\n",
            "Collecting SQLAlchemy<2.0.36,>=1.4 (from langchain-community)\n",
            "  Downloading SQLAlchemy-2.0.35-cp310-cp310-manylinux_2_17_x86_64.manylinux2014_x86_64.whl.metadata (9.6 kB)\n",
            "Requirement already satisfied: aiohttp<4.0.0,>=3.8.3 in /usr/local/lib/python3.10/dist-packages (from langchain-community) (3.10.10)\n",
            "Collecting dataclasses-json<0.7,>=0.5.7 (from langchain-community)\n",
            "  Downloading dataclasses_json-0.6.7-py3-none-any.whl.metadata (25 kB)\n",
            "Collecting httpx-sse<0.5.0,>=0.4.0 (from langchain-community)\n",
            "  Downloading httpx_sse-0.4.0-py3-none-any.whl.metadata (9.0 kB)\n",
            "Collecting langchain<0.4.0,>=0.3.6 (from langchain-community)\n",
            "  Downloading langchain-0.3.7-py3-none-any.whl.metadata (7.1 kB)\n",
            "Collecting langchain-core<0.4.0,>=0.3.15 (from langchain-community)\n",
            "  Downloading langchain_core-0.3.15-py3-none-any.whl.metadata (6.3 kB)\n",
            "Requirement already satisfied: langsmith<0.2.0,>=0.1.125 in /usr/local/lib/python3.10/dist-packages (from langchain-community) (0.1.137)\n",
            "Requirement already satisfied: numpy<2,>=1 in /usr/local/lib/python3.10/dist-packages (from langchain-community) (1.26.4)\n",
            "Collecting pydantic-settings<3.0.0,>=2.4.0 (from langchain-community)\n",
            "  Downloading pydantic_settings-2.6.1-py3-none-any.whl.metadata (3.5 kB)\n",
            "Requirement already satisfied: requests<3,>=2 in /usr/local/lib/python3.10/dist-packages (from langchain-community) (2.32.3)\n",
            "Requirement already satisfied: tenacity!=8.4.0,<10,>=8.1.0 in /usr/local/lib/python3.10/dist-packages (from langchain-community) (9.0.0)\n",
            "Requirement already satisfied: aiohappyeyeballs>=2.3.0 in /usr/local/lib/python3.10/dist-packages (from aiohttp<4.0.0,>=3.8.3->langchain-community) (2.4.3)\n",
            "Requirement already satisfied: aiosignal>=1.1.2 in /usr/local/lib/python3.10/dist-packages (from aiohttp<4.0.0,>=3.8.3->langchain-community) (1.3.1)\n",
            "Requirement already satisfied: attrs>=17.3.0 in /usr/local/lib/python3.10/dist-packages (from aiohttp<4.0.0,>=3.8.3->langchain-community) (24.2.0)\n",
            "Requirement already satisfied: frozenlist>=1.1.1 in /usr/local/lib/python3.10/dist-packages (from aiohttp<4.0.0,>=3.8.3->langchain-community) (1.5.0)\n",
            "Requirement already satisfied: multidict<7.0,>=4.5 in /usr/local/lib/python3.10/dist-packages (from aiohttp<4.0.0,>=3.8.3->langchain-community) (6.1.0)\n",
            "Requirement already satisfied: yarl<2.0,>=1.12.0 in /usr/local/lib/python3.10/dist-packages (from aiohttp<4.0.0,>=3.8.3->langchain-community) (1.17.0)\n",
            "Requirement already satisfied: async-timeout<5.0,>=4.0 in /usr/local/lib/python3.10/dist-packages (from aiohttp<4.0.0,>=3.8.3->langchain-community) (4.0.3)\n",
            "Collecting marshmallow<4.0.0,>=3.18.0 (from dataclasses-json<0.7,>=0.5.7->langchain-community)\n",
            "  Downloading marshmallow-3.23.1-py3-none-any.whl.metadata (7.5 kB)\n",
            "Collecting typing-inspect<1,>=0.4.0 (from dataclasses-json<0.7,>=0.5.7->langchain-community)\n",
            "  Downloading typing_inspect-0.9.0-py3-none-any.whl.metadata (1.5 kB)\n",
            "Requirement already satisfied: langchain-text-splitters<0.4.0,>=0.3.0 in /usr/local/lib/python3.10/dist-packages (from langchain<0.4.0,>=0.3.6->langchain-community) (0.3.0)\n",
            "Requirement already satisfied: pydantic<3.0.0,>=2.7.4 in /usr/local/lib/python3.10/dist-packages (from langchain<0.4.0,>=0.3.6->langchain-community) (2.9.2)\n",
            "Requirement already satisfied: jsonpatch<2.0,>=1.33 in /usr/local/lib/python3.10/dist-packages (from langchain-core<0.4.0,>=0.3.15->langchain-community) (1.33)\n",
            "Requirement already satisfied: packaging<25,>=23.2 in /usr/local/lib/python3.10/dist-packages (from langchain-core<0.4.0,>=0.3.15->langchain-community) (24.1)\n",
            "Requirement already satisfied: typing-extensions>=4.7 in /usr/local/lib/python3.10/dist-packages (from langchain-core<0.4.0,>=0.3.15->langchain-community) (4.12.2)\n",
            "Requirement already satisfied: httpx<1,>=0.23.0 in /usr/local/lib/python3.10/dist-packages (from langsmith<0.2.0,>=0.1.125->langchain-community) (0.27.2)\n",
            "Requirement already satisfied: orjson<4.0.0,>=3.9.14 in /usr/local/lib/python3.10/dist-packages (from langsmith<0.2.0,>=0.1.125->langchain-community) (3.10.10)\n",
            "Requirement already satisfied: requests-toolbelt<2.0.0,>=1.0.0 in /usr/local/lib/python3.10/dist-packages (from langsmith<0.2.0,>=0.1.125->langchain-community) (1.0.0)\n",
            "Collecting python-dotenv>=0.21.0 (from pydantic-settings<3.0.0,>=2.4.0->langchain-community)\n",
            "  Downloading python_dotenv-1.0.1-py3-none-any.whl.metadata (23 kB)\n",
            "Requirement already satisfied: charset-normalizer<4,>=2 in /usr/local/lib/python3.10/dist-packages (from requests<3,>=2->langchain-community) (3.4.0)\n",
            "Requirement already satisfied: idna<4,>=2.5 in /usr/local/lib/python3.10/dist-packages (from requests<3,>=2->langchain-community) (3.10)\n",
            "Requirement already satisfied: urllib3<3,>=1.21.1 in /usr/local/lib/python3.10/dist-packages (from requests<3,>=2->langchain-community) (2.2.3)\n",
            "Requirement already satisfied: certifi>=2017.4.17 in /usr/local/lib/python3.10/dist-packages (from requests<3,>=2->langchain-community) (2024.8.30)\n",
            "Requirement already satisfied: greenlet!=0.4.17 in /usr/local/lib/python3.10/dist-packages (from SQLAlchemy<2.0.36,>=1.4->langchain-community) (3.1.1)\n",
            "Requirement already satisfied: anyio in /usr/local/lib/python3.10/dist-packages (from httpx<1,>=0.23.0->langsmith<0.2.0,>=0.1.125->langchain-community) (3.7.1)\n",
            "Requirement already satisfied: httpcore==1.* in /usr/local/lib/python3.10/dist-packages (from httpx<1,>=0.23.0->langsmith<0.2.0,>=0.1.125->langchain-community) (1.0.6)\n",
            "Requirement already satisfied: sniffio in /usr/local/lib/python3.10/dist-packages (from httpx<1,>=0.23.0->langsmith<0.2.0,>=0.1.125->langchain-community) (1.3.1)\n",
            "Requirement already satisfied: h11<0.15,>=0.13 in /usr/local/lib/python3.10/dist-packages (from httpcore==1.*->httpx<1,>=0.23.0->langsmith<0.2.0,>=0.1.125->langchain-community) (0.14.0)\n",
            "Requirement already satisfied: jsonpointer>=1.9 in /usr/local/lib/python3.10/dist-packages (from jsonpatch<2.0,>=1.33->langchain-core<0.4.0,>=0.3.15->langchain-community) (3.0.0)\n",
            "Requirement already satisfied: annotated-types>=0.6.0 in /usr/local/lib/python3.10/dist-packages (from pydantic<3.0.0,>=2.7.4->langchain<0.4.0,>=0.3.6->langchain-community) (0.7.0)\n",
            "Requirement already satisfied: pydantic-core==2.23.4 in /usr/local/lib/python3.10/dist-packages (from pydantic<3.0.0,>=2.7.4->langchain<0.4.0,>=0.3.6->langchain-community) (2.23.4)\n",
            "Collecting mypy-extensions>=0.3.0 (from typing-inspect<1,>=0.4.0->dataclasses-json<0.7,>=0.5.7->langchain-community)\n",
            "  Downloading mypy_extensions-1.0.0-py3-none-any.whl.metadata (1.1 kB)\n",
            "Requirement already satisfied: propcache>=0.2.0 in /usr/local/lib/python3.10/dist-packages (from yarl<2.0,>=1.12.0->aiohttp<4.0.0,>=3.8.3->langchain-community) (0.2.0)\n",
            "Requirement already satisfied: exceptiongroup in /usr/local/lib/python3.10/dist-packages (from anyio->httpx<1,>=0.23.0->langsmith<0.2.0,>=0.1.125->langchain-community) (1.2.2)\n",
            "Downloading langchain_community-0.3.5-py3-none-any.whl (2.4 MB)\n",
            "\u001b[2K   \u001b[90m━━━━━━━━━━━━━━━━━━━━━━━━━━━━━━━━━━━━━━━━\u001b[0m \u001b[32m2.4/2.4 MB\u001b[0m \u001b[31m29.0 MB/s\u001b[0m eta \u001b[36m0:00:00\u001b[0m\n",
            "\u001b[?25hDownloading dataclasses_json-0.6.7-py3-none-any.whl (28 kB)\n",
            "Downloading httpx_sse-0.4.0-py3-none-any.whl (7.8 kB)\n",
            "Downloading langchain-0.3.7-py3-none-any.whl (1.0 MB)\n",
            "\u001b[2K   \u001b[90m━━━━━━━━━━━━━━━━━━━━━━━━━━━━━━━━━━━━━━━━\u001b[0m \u001b[32m1.0/1.0 MB\u001b[0m \u001b[31m50.6 MB/s\u001b[0m eta \u001b[36m0:00:00\u001b[0m\n",
            "\u001b[?25hDownloading langchain_core-0.3.15-py3-none-any.whl (408 kB)\n",
            "\u001b[2K   \u001b[90m━━━━━━━━━━━━━━━━━━━━━━━━━━━━━━━━━━━━━━━━\u001b[0m \u001b[32m408.7/408.7 kB\u001b[0m \u001b[31m27.7 MB/s\u001b[0m eta \u001b[36m0:00:00\u001b[0m\n",
            "\u001b[?25hDownloading pydantic_settings-2.6.1-py3-none-any.whl (28 kB)\n",
            "Downloading SQLAlchemy-2.0.35-cp310-cp310-manylinux_2_17_x86_64.manylinux2014_x86_64.whl (3.1 MB)\n",
            "\u001b[2K   \u001b[90m━━━━━━━━━━━━━━━━━━━━━━━━━━━━━━━━━━━━━━━━\u001b[0m \u001b[32m3.1/3.1 MB\u001b[0m \u001b[31m78.3 MB/s\u001b[0m eta \u001b[36m0:00:00\u001b[0m\n",
            "\u001b[?25hDownloading marshmallow-3.23.1-py3-none-any.whl (49 kB)\n",
            "\u001b[2K   \u001b[90m━━━━━━━━━━━━━━━━━━━━━━━━━━━━━━━━━━━━━━━━\u001b[0m \u001b[32m49.5/49.5 kB\u001b[0m \u001b[31m3.4 MB/s\u001b[0m eta \u001b[36m0:00:00\u001b[0m\n",
            "\u001b[?25hDownloading python_dotenv-1.0.1-py3-none-any.whl (19 kB)\n",
            "Downloading typing_inspect-0.9.0-py3-none-any.whl (8.8 kB)\n",
            "Downloading mypy_extensions-1.0.0-py3-none-any.whl (4.7 kB)\n",
            "Installing collected packages: SQLAlchemy, python-dotenv, mypy-extensions, marshmallow, httpx-sse, typing-inspect, pydantic-settings, dataclasses-json, langchain-core, langchain, langchain-community\n",
            "  Attempting uninstall: SQLAlchemy\n",
            "    Found existing installation: SQLAlchemy 2.0.36\n",
            "    Uninstalling SQLAlchemy-2.0.36:\n",
            "      Successfully uninstalled SQLAlchemy-2.0.36\n",
            "  Attempting uninstall: langchain-core\n",
            "    Found existing installation: langchain-core 0.3.13\n",
            "    Uninstalling langchain-core-0.3.13:\n",
            "      Successfully uninstalled langchain-core-0.3.13\n",
            "  Attempting uninstall: langchain\n",
            "    Found existing installation: langchain 0.3.4\n",
            "    Uninstalling langchain-0.3.4:\n",
            "      Successfully uninstalled langchain-0.3.4\n",
            "Successfully installed SQLAlchemy-2.0.35 dataclasses-json-0.6.7 httpx-sse-0.4.0 langchain-0.3.7 langchain-community-0.3.5 langchain-core-0.3.15 marshmallow-3.23.1 mypy-extensions-1.0.0 pydantic-settings-2.6.1 python-dotenv-1.0.1 typing-inspect-0.9.0\n"
          ]
        }
      ]
    },
    {
      "cell_type": "code",
      "source": [
        "!pip install -q cassio datasets langchain openai tiktoken\n"
      ],
      "metadata": {
        "id": "d0ZoOwAFG0NO"
      },
      "execution_count": 3,
      "outputs": []
    },
    {
      "cell_type": "code",
      "source": [
        " # LangChain components to use\n",
        "from langchain.vectorstores.cassandra import Cassandra\n",
        "from langchain.indexes.vectorstore import VectorStoreIndexWrapper\n",
        "from langchain.llms import OpenAI\n",
        "from langchain.embeddings import OpenAIEmbeddings\n",
        "\n",
        "# Support for dataset retrieval with Hugging Face\n",
        "from datasets import load_dataset\n",
        "\n",
        "# With CassIO, the engine powering the Astra DB integration in LangChain,\n",
        "# you will also initialize the DB connection:\n",
        "import cassio"
      ],
      "metadata": {
        "id": "ixN53rayjanK"
      },
      "execution_count": 4,
      "outputs": []
    },
    {
      "cell_type": "code",
      "source": [
        "!pip install PyPDF2"
      ],
      "metadata": {
        "id": "UvTXAOM5jas-",
        "outputId": "a0ecd52e-8b29-4442-8c35-a8592006b75b",
        "colab": {
          "base_uri": "https://localhost:8080/"
        }
      },
      "execution_count": 5,
      "outputs": [
        {
          "output_type": "stream",
          "name": "stdout",
          "text": [
            "Collecting PyPDF2\n",
            "  Downloading pypdf2-3.0.1-py3-none-any.whl.metadata (6.8 kB)\n",
            "Downloading pypdf2-3.0.1-py3-none-any.whl (232 kB)\n",
            "\u001b[?25l   \u001b[90m━━━━━━━━━━━━━━━━━━━━━━━━━━━━━━━━━━━━━━━━\u001b[0m \u001b[32m0.0/232.6 kB\u001b[0m \u001b[31m?\u001b[0m eta \u001b[36m-:--:--\u001b[0m\r\u001b[2K   \u001b[91m━━━━━━━━━━━━━━━━━━━\u001b[0m\u001b[90m╺\u001b[0m\u001b[90m━━━━━━━━━━━━━━━━━━━━\u001b[0m \u001b[32m112.6/232.6 kB\u001b[0m \u001b[31m3.2 MB/s\u001b[0m eta \u001b[36m0:00:01\u001b[0m\r\u001b[2K   \u001b[90m━━━━━━━━━━━━━━━━━━━━━━━━━━━━━━━━━━━━━━━━\u001b[0m \u001b[32m232.6/232.6 kB\u001b[0m \u001b[31m3.9 MB/s\u001b[0m eta \u001b[36m0:00:00\u001b[0m\n",
            "\u001b[?25hInstalling collected packages: PyPDF2\n",
            "Successfully installed PyPDF2-3.0.1\n"
          ]
        }
      ]
    },
    {
      "cell_type": "code",
      "source": [
        "from PyPDF2 import PdfReader"
      ],
      "metadata": {
        "id": "x9kEr3enjava"
      },
      "execution_count": 6,
      "outputs": []
    },
    {
      "cell_type": "code",
      "source": [
        "ASTRA_DB_APPLICATION_TOKEN = \"AstraCS:zfboQzHnPxSbSYmEeyMZLysv:a72d966b1bbeb00485b364a40fb33278258246f9ecb1011e2732e1628613b896\" # enter the \"AstraCS:...\" string found in in your Token JSON file\n",
        "ASTRA_DB_ID = \"aa0f9704-f528-4d33-bb0a-6e4f694ca992\" # enter your Database ID\n",
        "\n",
        "OPENAI_API_KEY = \"sk-None-G2VcIn6W9aOBblloR5S0T3BlbkFJCZ1VggNrqspHD5RdLObK\" # enter your OpenAI key"
      ],
      "metadata": {
        "id": "Ile2AKc-kG04"
      },
      "execution_count": 18,
      "outputs": []
    },
    {
      "cell_type": "code",
      "source": [
        "# provide the path of  pdf file/files.\n",
        "pdfreader = PdfReader('PDF_test.pdf')"
      ],
      "metadata": {
        "id": "7Y16YiepkMF2"
      },
      "execution_count": 19,
      "outputs": []
    },
    {
      "cell_type": "code",
      "source": [
        "from typing_extensions import Concatenate\n",
        "# read text from pdf\n",
        "raw_text = ''\n",
        "for i, page in enumerate(pdfreader.pages):\n",
        "    content = page.extract_text()\n",
        "    if content:\n",
        "        raw_text += content"
      ],
      "metadata": {
        "id": "qL_XLycSkMIF"
      },
      "execution_count": 20,
      "outputs": []
    },
    {
      "cell_type": "code",
      "source": [
        "raw_text"
      ],
      "metadata": {
        "id": "TJOUFvkukMJ-",
        "outputId": "1126985f-e903-420b-aa34-5aa6faa7d921",
        "colab": {
          "base_uri": "https://localhost:8080/",
          "height": 123
        }
      },
      "execution_count": 21,
      "outputs": [
        {
          "output_type": "execute_result",
          "data": {
            "text/plain": [
              "'1 \\n A&P   \\nby John Updike - 1962  \\nIn walks these three girls in nothing but bathing suits. I\\'m in the third check -out \\nslot, with my back to the door, so I don\\'t see them until they\\'re over by the bread. \\nThe one that caught my eye first was the one in the plaid gr een two -piece. She \\nwas a chunky kid, with a good tan and a sweet broad soft -looking can with those \\ntwo crescents of white just under it, where the sun never seems to hit, at the top \\nof the backs of her legs. I stood there with my hand on a box of HiHo crac kers \\ntrying to remember if I rang it up or not. I ring it up again and the customer starts \\ngiving me hell. She\\'s one of these cash -register -watchers, a witch about fifty with \\nrouge on her cheekbones and no eyebrows, and I know it made her day to trip \\nme up . She\\'d been watching cash registers forty years and probably never seen a \\nmistake before.  \\nBy the time I got her feathers smoothed and her goodies into a bag -- she gives \\nme a little snort in passing, if she\\'d been born at the right time they would have \\nburned her over in Salem -- by the time I get her on her way the girls had circled \\naround the bread and were coming back, without a pushcart, back my way along \\nthe counters, in the aisle between the check -outs and the Special bins. They \\ndidn\\'t even have sho es on. There was this chunky one, with the two -piece -- it \\nwas bright green and the seams on the bra were still sharp and her belly was still \\npretty pale so I guessed she just got it (the suit) -- there was this one, with one of \\nthose chubby berry -faces, t he lips all bunched together under her nose, this one, \\nand a tall one, with black hair that hadn\\'t quite frizzed right, and one of these \\nsunburns right across under the eyes, and a chin that was too long -- you know, \\nthe kind of girl other girls think is v ery \"striking\" and \"attractive\" but never quite \\nmakes it, as they very well know, which is why they like her so much -- and then \\nthe third one, that wasn\\'t quite so tall. She was the queen. She kind of led them, \\nthe other two peeking around and making thei r shoulders round. She didn\\'t look \\naround, not this queen, she just walked straight on slowly, on these long white \\nprima donna legs. She came down a little hard on her heels, as if she didn\\'t walk \\nin her bare feet that much, putting down her heels and then  letting the weight \\nmove along to her toes as if she was testing the floor with every step, putting a \\nlittle deliberate extra action into it. You never know for sure how girls\\' minds \\nwork (do you really think it\\'s a mind in there or just a little buzz like  a bee in a \\nglass jar?) but you got the idea she had talked the other two into coming in here \\nwith her, and now she was showing them how to do it, walk slow and hold \\nyourself straight.  She had on a kind of dirty -pink - - beige maybe, I don\\'t know -- bathi ng suit with \\na little nubble all over it and, what got me, the straps were down. They were off \\nher shoulders looped loose around the cool tops of her arms, and I guess as a \\nresult the suit had slipped a little on her, so all around the top of the cloth the re \\nwas this shining rim. If it hadn\\'t been there you wouldn\\'t have known there could \\nhave been anything whiter than those shoulders. With the straps pushed off, there \\nwas nothing between the top of the suit and the top of her head except just her, \\nthis cle an bare plane of the top of her chest down from the shoulder bones like a \\ndented sheet of metal tilted in the light. I mean, it was more than pretty.  \\nShe had sort of oaky hair that the sun and salt had bleached, done up in a bun \\nthat was unraveling, and a  kind of prim face. Walking into the A & P with your \\nstraps down, I suppose it\\'s the only kind of face you can have. She held her head \\nso high her neck, coming up out of those white shoulders, looked kind of \\nstretched, but I didn\\'t mind. The longer her nec k was, the more of her there was.  \\nShe must have felt in the corner of her eye me and over my shoulder Stokesie in \\nthe second slot watching, but she didn\\'t tip. Not this queen. She kept her eyes \\nmoving across the racks, and stopped, and turned so slow it m ade my stomach \\nrub the inside of my apron, and buzzed to the other two, who kind of huddled \\nagainst her for relief, and they all three of them went up the cat -and-dog-food-\\nbreakfast -cereal -macaroni -rice-raisins -seasonings -spreads -spaghetti -soft drinks - \\ncrackers -and- cookies aisle. From the third slot I look straight up this aisle to the \\nmeat counter, and I watched them all the way. The fat one with the tan sort of \\nfumbled with the cookies, but on second thought she put the packages back. The \\nsheep pushing t heir carts down the aisle -- the girls were walking against the \\nusual traffic (not that we have one -way signs or anything) -- were pretty \\nhilarious. You could see them, when Queenie\\'s white shoulders dawned on them, \\nkind of jerk, or hop, or hiccup, but the ir eyes snapped back to their own baskets \\nand on they pushed. I bet you could set off dynamite in an A & P and the people \\nwould by and large keep reaching and checking oatmeal off their lists and \\nmuttering \"Let me see, there was a third thing, began with A , asparagus, no, ah, \\nyes, applesauce!\" or whatever it is they do mutter. But there was no doubt, this \\njiggled them. A few house -slaves in pin curlers even looked around after pushing \\ntheir carts past to make sure what they had seen was correct.  \\nYou know, it\\'s one thing to have a girl in a bathing suit down on the beach, \\nwhere what with the glare nobody can look at each other much anyway, and \\nanother thing in the cool of the A & P, under the fluorescent lights, against all \\nthose stacked packages, with her f eet paddling along naked over our \\ncheckerboard green -and-cream rubber -tile floor.  2 \\n \"Oh Daddy,\" Stokesie said beside me. \"I feel so faint.\"  \\n\"Darling,\" I said. \"Hold me tight.\" Stokesie\\'s married, with two babies chalked \\nup on his fuselage already, but as f ar as I can tell that\\'s the only difference. He\\'s \\ntwenty -two, and I was nineteen this April.  \\n\"Is it done?\" he asks, the responsible married man finding his voice. I forgot to \\nsay he thinks he\\'s going to be manager some sunny day, maybe in 1990 when it\\'s \\ncalled the Great Alexandrov and Petrooshki Tea Company or something.  \\nWhat he meant was, our town is five miles from a beach, with a big summer \\ncolony out on the Point, but we\\'re right in the middle of town, and the women \\ngenerally put on a shirt or shorts or something before they get out of the car into \\nthe street. And anyway these are usually women with six children and varicose \\nveins mapping their legs and nobody, including them, could care less. As I say, \\nwe\\'re right in the middle of town, and if you sta nd at our front doors you can see \\ntwo banks and the Congregational church and the newspaper store and three real -\\nestate offices and about twenty -seven old free -loaders tearing up Central Street \\nbecause the sewer broke again. It\\'s not as if we\\'re on the Cap e; we\\'re north of \\nBoston and there\\'s people in this town haven\\'t seen the ocean for twenty years.  \\nThe girls had reached the meat counter and were asking McMahon something. \\nHe pointed, they pointed, and they shuffled out of sight behind a pyramid of Diet \\nDelight peaches. All that was left for us to see was old McMahon patting his \\nmouth and looking after them sizing up their joints. Poor kids, I began to feel \\nsorry for them, they couldn\\'t help it.  \\nNow here comes the sad part of the story, at least my family  says it\\'s sad but I \\ndon\\'t think it\\'s sad myself. The store\\'s pretty empty, it being Thursday afternoon, \\nso there was nothing much to do except lean on the register and wait for the girls \\nto show up again. The whole store was like a pinball machine and I d idn\\'t know \\nwhich tunnel they\\'d come out of. After a while they come around out of the far \\naisle, around the light bulbs, records at discount of the Caribbean Six or Tony \\nMartin Sings or some such gunk you wonder they waste the wax on, six packs of \\ncandy ba rs, and plastic toys done up in cellophane that fall apart when a kid \\nlooks at them anyway. Around they come, Queenie still leading the way, and \\nholding a little gray jar in her hand. Slots Three through Seven are unmanned \\nand I could see her wondering bet ween Stokes and me, but Stokesie with his \\nusual luck draws an old party in baggy gray pants who stumbles up with four \\ngiant cans of pineapple juice (what do these bums do with all that pineapple juice \\nI\\'ve often asked myself) so the girls come to me. Queen ie puts down the jar and I take it into my fingers icy cold. Kingfish Fancy Herring Snacks in Pure Sour \\nCream: 49¢. Now her hands are empty, not a ring or a bracelet, bare as God \\nmade them, and I wonder where the money\\'s coming from. Still with that prim \\nlook she lifts a folded dollar bill out of the hollow at the center of her nubbled \\npink top. The jar went heavy in my hand. Really, I thought that was so cute.  \\nThen everybody\\'s luck begins to run out. Lengel comes in from haggling with a \\ntruck full of cabb ages on the lot and is about to scuttle into that door marked \\nMANAGER behind which he hides all day when the girls touch his eye. Lengel\\'s \\npretty dreary, teaches Sunday school and the rest, but he doesn\\'t miss that much. \\nHe comes over and says, \"Girls, thi s isn\\'t the beach.\"  \\nQueenie blushes, though maybe it\\'s just a brush of sunburn I was noticing for the \\nfirst time, now that she was so close. \"My mother asked me to pick up a jar of \\nherring snacks.\" Her voice kind of startled me, the way voices do when you  see \\nthe people first, coming out so flat and dumb yet kind of tony, too, the way it \\nticked over \"pick up\" and \"snacks.\" All of a sudden I slid right down her voice \\ninto her living room. Her father and the other men were standing around in ice -\\ncream coats and bow ties and the women were in sandals picking up herring \\nsnacks on toothpicks off a big plate and they were all holding drinks the color of \\nwater with olives and sprigs of mint in them. When my parents have somebody \\nover they get lemonade and if it\\'s a real racy affair Schlitz in tall glasses with \\n\"They\\'ll Do It Every Time\" cartoons stenciled on.  \\n\"That\\'s all right,\" Lengel said. \"But this isn\\'t the beach.\" His repeating this struck \\nme as funny, as if it had just occurred to him, and he had been thinki ng all these \\nyears the A & P was a great big dune and he was the head lifeguard. He didn\\'t \\nlike my smiling -- -as I say he doesn\\'t miss much -- but he concentrates on giving \\nthe girls that sad Sunday - school -superintendent stare.  \\nQueenie\\'s blush is no sun burn now, and the plump one in plaid, that I liked better \\nfrom the back -- a really sweet can -- pipes up, \"We weren\\'t doing any shopping. \\nWe just came in for the one thing.\"  \\n\"That makes no difference,\" Lengel tells her, and I could see from the way his \\neyes went that he hadn\\'t noticed she was wearing a two -piece before. \"We want \\nyou decently dressed when you come in here.\"  \\n\"We are decent,\" Queenie says suddenly, her lower lip pushing, getting sore now \\nthat she remembers her place, a place from which the crowd that runs the A & P \\nmust look pretty crummy. Fancy Herring Snacks flashed in her very blue eyes.  3 \\n \"Girls, I don\\'t want to argue with you. After this come in here with your \\nshoulders covered. It\\'s our policy.\" He turns his back. That\\'s policy for you.  \\nPolicy is what the kingpins want. What the others want is juvenile delinquency.  \\nAll this while, the customers had been showing up with their carts but, you \\nknow, sheep, seeing a scene, they had all bunched up on Stokesie, who shook \\nopen a paper bag as ge ntly as peeling a peach, not wanting to miss a word. I \\ncould feel in the silence everybody getting nervous, most of all Lengel, who asks \\nme, \"Sammy, have you rung up this purchase?\"  \\nI thought and said \"No\" but it wasn\\'t about that I was thinking. I go thr ough the \\npunches, 4, 9, GROC, TOT -- it\\'s more complicated than you think, and after you \\ndo it often enough, it begins to make a little song, that you hear words to, in my \\ncase \"Hello (bing)  there, you (gung)  hap-py pee -pul (splat) \"-the splat being the \\ndrawer flying out. I uncrease the bill, tenderly as you may imagine, it just having \\ncome from between the two smoothest scoops of vanilla I had ever known were \\nthere, and pass a half and a penny into her narrow pink palm, and nestle the \\nherrings in a bag and twist its neck and hand it over, all the time thinking.  \\nThe girls, and who\\'d blame them, are in a hurry to get out, so I say \"I quit\" to \\nLengel quick enough for them to hear, hoping they\\'ll stop and watch me, their \\nunsuspected hero. They keep right on goi ng, into the electric eye; the door flies \\nopen and they flicker across the lot to their car, Queenie and Plaid and Big Tall \\nGoony -Goony (not that as raw material she was so bad), leaving me with Lengel \\nand a kink in his eyebrow.  \\n\"Did you say something, Sa mmy?\"  \\n\"I said I quit.\"  \\n\"I thought you did.\"  \\n\"You didn\\'t have to embarrass them.\"  \\n\"It was they who were embarrassing us.\"  \\nI started to say something that came out \"Fiddle -de-doo.\" It\\'s a saying of my \\ngrandmother\\'s, and I know she would have been please d.  \\n\"I don\\'t think you know what you\\'re saying,\" Lengel said.  \"I know you don\\'t,\" I said. \"But I do.\" I pull the bow at the back of my apron and \\nstart shrugging it off my shoulders. A couple customers that had been heading \\nfor my slot begin to knock again st each other, like scared pigs in a chute.  \\nLengel sighs and begins to look very patient and old and gray. He\\'s been a friend \\nof my parents for years. \"Sammy, you don\\'t want to do this to your Mom and \\nDad,\" he tells me. It\\'s true, I don\\'t. But it seems to  me that once you begin a \\ngesture it\\'s fatal not to go through with it. I fold the apron, \"Sammy\" stitched in \\nred on the pocket, and put it on the counter, and drop the bow tie on top of it. \\nThe bow tie is theirs, if you\\'ve ever wondered. \"You\\'ll feel this  for the rest of \\nyour life,\" Lengel says, and I know that\\'s true, too, but remembering how he \\nmade that pretty girl blush makes me so scrunchy inside I punch the No Sale tab \\nand the machine whirs \"pee -pul\" and the drawer splats out. One advantage to this \\nscene taking place in summer, I can follow this up with a clean exit, there\\'s no \\nfumbling around getting your coat and galoshes, I just saunter into the electric \\neye in my white shirt that my mother ironed the night before, and the door \\nheaves itself open, and outside the sunshine is skating around on the asphalt.  \\nI look around for my girls, but they\\'re gone, of course. There wasn\\'t anybody but \\nsome young married screaming with her children about some candy they didn\\'t \\nget by the door of a powder -blue Falco n station wagon. Looking back in the big \\nwindows, over the bags of peat moss and aluminum lawn furniture stacked on \\nthe pavement, I could see Lengel in my place in the slot, checking the sheep \\nthrough. His face was dark gray and his back stiff, as if he\\'d just had an injection \\nof iron, and my stomach kind of fell as I felt how hard the world was going to be \\nto me hereafter.  \\n \\n \\n \\n \\n \\n \\n \\n \\n \\n \\n \\n \\n \\n 4 \\n A CLEAN, WELL -LIGHTED PLACE (1933)  \\nBy Ernest Hemingway  \\n \\n \\nIt was late and every one had left the cafe except an old man w ho sat in the \\nshadow the leaves of the tree made against the electric light. In the day time \\nthe street was dusty; but at night the dew settled the dust and the old man \\nliked to sit late because he was deaf and now at night it was quiet and he felt \\nthe dif ference. The two waiters inside the cafe knew that the old man was a \\nlittle drunk, and while he was a good client they knew that if he became too \\ndrunk he would leave without paying, so they kept watch on him.  \\n\"Last week he tried to commit suicide,\" one w aiter said.  \\n\"Why?\"  \\n\"He was in despair.\"  \\n\"What about?\"  \\n\"Nothing.\"  \\nHow do you know it was nothing?\"  \\n\"He has plenty of money.\"  \\nThey sat together at a table that was close against the wall near the door of the \\ncafe and looked at the terrace where the tables w ere all empty except where \\nthe old man sat in the shadow of the leaves of the tree that moved slightly in \\nthe wind. A girl and a soldier went by in the street. The street light shone on \\nthe brass number on his collar. The girl wore no head covering and hur ried \\nbeside him.  \\n\"The guard will pick him up,\" one waiter said.  \\n\"What does it matter if he gets what he\\'s after?\"  \\n\"He had better get off the street now. The guard will get him. They went by \\nfive minutes ago.\"  \\nThe old man sitting in the shadow rapped on his  saucer with his glass. The \\nyounger waiter went over to him.  \\n\"What do you want?\"  \\nThe old man looked at him. \"Another brandy,\" he said.  \\n\"You\\'ll be drunk,\" the waiter said. The old man looked at him. The waiter \\nwent away.  \\n\"He\\'ll stay all night,\" he said to h is colleague. \"I\\'m sleepy now. I never get into \\nbed before three o\\'clock. He should have killed himself last week.\"  \\nThe waiter took the brandy bottle and another saucer from the counter inside \\nthe cafe and marched out to the old man\\'s table. He put down th e saucer and \\npoured the glass full of brandy.  \\n\"You should have killed yourself last week,\" he said to the deaf man. The old \\nman motioned with his finger.  \"A little more,\" he said. The waiter poured on into the glass so that \\nthe brandy slopped over and ran down the stem into the top saucer of \\nthe pile. \"Thank you,\" the old man said. The waiter took the bottle \\nback inside the cafe. He sat down at the table with his colleague again.  \\n\"He\\'s drunk now,\" he said.  \\n\"He\\'s drunk every night.\"  \\n\"What did he want to kill  himself for?\"  \\n\"How should I know.\"  \\n\"How did he do it?\"  \\n\"He hung himself with a rope.\"  \\n\"Who cut him down?\"  \\n\"His niece.\"  \\n\"Why did he do it?\"  \\n\"For his soul.\"  \\n\"How much money has he got?\"  \\n\"He\\'s got plenty.\"  \\n\"He must be eighty years old.\"  \\n\"Anyway I should say he was eighty.\"  \\n\"I wish he would go home. I never get to bed before three o\\'clock. \\nWhat kind of hour is that to go to bed?\"  \\n\"He stays up because he likes it.\"  \\n\"He\\'s lonely. I\\'m not lonely. I have a wife waiting in bed for me.\"  \\n\"He had a wife once too.\"  \\n\"A wife would be no good to him now.\"  \\n\"You can\\'t tell. He might be better with a wife.\"  \\n\"His niece looks after him.\"  \\n\"I know. You said she cut him down.\"  \\n\"I wouldn\\'t want to be that old. An old man is a nasty thing.\"  \\n\"Not always. This old man is clean. He dri nks without spilling. Even \\nnow, drunk. Look at him.\"  \\n\"I don\\'t want to look at him. I wish he would go home. He has no \\nregard for those who must work.\"  \\nThe old man looked from his glass across the square, then over at the \\nwaiters.  \\n\"Another brandy,\" he said,  pointing to his glass. The waiter who was \\nin a hurry came over.  \\n\"Finished,\" he said, speaking with that omission of syntax stupid \\npeople employ when talking to drunken people or foreigners. \"No \\nmore tonight. Close now.\"  \\n\"Another,\" said the old man.  5 \\n \"No. F inished.\" The waiter wiped the edge of the table with a towel \\nand shook his head.  \\nThe old man stood up, slowly counted the saucers, took a leather coin purse \\nfrom his pocket and paid for the drinks, leaving half a peseta tip.  \\nThe waiter watched him go down  the street, a very old man walking unsteadily \\nbut with dignity,.  \\n\"Why didn\\'t you let him stay and drink?\" the unhurried waiter asked. They \\nwere putting up the shutters. \"It is not half -past two.\"  \\n\"I want to go home to bed.\"  \\n\"What is an hour?\"  \\n\"More to me  than to him.\"  \\n\"An hour is the same.\"  \\n\"You talk like an old man yourself. He can buy a bottle and drink at home.\"  \\n\"It\\'s not the same.\"  \\n\"No, it is not,\" agreed the waiter with a wife. He did not wish to be unjust. He \\nwas only in a hurry.  \\n\"And you? You have no fear of going home before your usual hour?\"  \\n\"Are you trying to insult me?\"  \\n\"No, hombre, only to make a joke.\"  \\n\"No,\" the waiter who was in a hurry said, rising from putting on the metal \\nshutters. \"I have confidence. I am all confidence.\"  \\n\"You have youth,  confidence, and a job,\" the older waiter said. \"You have \\neverything.\"  \\n\"And what do you lack?\"  \\n\"Everything but work.\"  \\n\"You have everything I have.\"  \\n\"No. I have never had confidence and I\\'m not young.\"  \\n\"Come on. Stop talking nonsense and lock up.\"  \\n\"I am of those who like to stay late at the cafe,\" the older waiter said.  \\n\"With all those who do not want to go to bed. With all those who need a light \\nfor the night.\"  \\n\"I want to go home and into bed.\"  \\n\"We are of two different kinds,\" the older waiter said. He wa s now dressed to \\ngo home. \"It is not only a question of youth and confidence although those \\nthings are very beautiful. Each night I am reluctant to close up because there \\nmay be some one who needs the cafe.\"  \\n\"Hombre, there are bodegas open all night long. \" \\n\"You do not understand. This is a clean and pleasant cafe. It is well lighted. \\nThe light is very good and also, now, there are shadows of the leaves.\"  \\n\"Good night,\" said the younger waiter.  \"Good night,\" the other said. Turning off the electric light he continued the \\nconversation with himself. It is the light of course but it is necessary that the \\nplace be clean and light. You do not want music. Certainly you do not want \\nmusic. Nor can you stand before a bar with dignity although that is all that is \\nprovi ded for these hours. What did he fear? It was not fear or dread. It was a \\nnothing that he knew too well. It was all a nothing and a man was nothing too. \\nIt was only that and light was all it needed and a certain cleanness and order. \\nSome lived in it and ne ver felt it but he knew it was already nada y pues nada y \\npues nada. Our nada who art in nada, nada be thy name thy kingdom nada thy \\nwill be nada in nada as it is in nada. Give us this nada our daily nada and nada \\nus our nada as we nada our nadas and nada us not into nada but deliver us \\nfrom nada; pues nada. Hail nothing full of nothing, nothing is with thee. He \\nsmiled and stood before a bar with a shining steam pressure coffee machine.  \\n\"What\\'s yours?\" asked the barman.  \\n\"Nada.\"  \\n\"Otro loco mas,\" said the ba rman and turned away.  \\n\"A little cup,\" said the waiter.  \\nThe barman poured it for him.  \\n\"The light is very bright and pleasant but the bar is unpolished,\" the waiter \\nsaid. \\nThe barman looked at him but did not answer. It was too late at night for \\nconversation . \\n\"You want another copita?\" the barman asked.  \\n\"No, thank you,\" said the waiter and went out. He disliked bars and bodegas. \\nA clean, well -lighted cafe was a very different thing. Now, without thinking \\nfurther, he would go home to his room. He would lie in the bed and finally, \\nwith daylight, he would go to sleep. After all, he said to himself, it is probably \\nonly insomnia. Many must have it.  \\n \\n \\n \\n \\n \\n \\n \\n \\n \\n \\n \\n 6 \\n The Story of an Hour  by Kate Chopin 1894  \\n \\nKnowing that Mrs. Mallard was afflicted with a heart trouble, g reat care was taken to break \\nto her as gently as possible the news of her husband\\'s death. It was her sister Josephine who \\ntold her, in broken sentences; veiled hints that revealed in half concealing. Her husband\\'s \\nfriend Richards was there, too, near her.  It was he who had been in the newspaper office \\nwhen intelligence of the railroad disaster was received, with Brently Mallard\\'s name leading \\nthe list of \"killed.\" He had only taken the time to assure himself of its truth by a second \\ntelegram, and had haste ned to forestall any less careful, less tender friend in bearing the sad \\nmessage.  \\n \\nShe did not hear the story as many women have heard the same, with a paralyzed inability to \\naccept its significance. She wept at once, with sudden, wild abandonment, in her sister\\'s \\narms. When the storm of grief had spent itself she went away to her room alone. She would \\nhave no one follow her.  \\n \\nThere stood, facing the open window, a comfortable, roomy armchair. Into this she sank, \\npressed down by a physical exhaustion that h aunted her body and seemed to reach into her \\nsoul.  \\n \\nShe could see in the open square before her house the tops of trees that were all aquiver with \\nthe new spring life. The delicious breath of rain was in the air. In the street below a peddler \\nwas crying hi s wares. The notes of a distant song which some one was singing reached her \\nfaintly, and countless sparrows were twittering in the eaves.  \\n \\nThere were patches of blue sky showing here and there through the clouds that had met and \\npiled one above the other i n the west facing her window.  \\n \\nShe sat with her head thrown back upon the cushion of the chair, quite motionless, except \\nwhen a sob came up into her throat and shook her, as a child who has cried itself to sleep \\ncontinues to sob in its dreams.  \\n \\nShe was you ng, with a fair, calm face, whose lines bespoke repression and even a certain \\nstrength. But now there was a dull stare in her eyes, whose gaze was fixed away off yonder \\non one of those patches of blue sky. It was not a glance of reflection, but rather indi cated a \\nsuspension of intelligent thought.  \\n \\nThere was something coming to her and she was waiting for it, fearfully. What was it? She \\ndid not know; it was too subtle and elusive to name. But she felt it, creeping out of the sky, \\nreaching toward her through  the sounds, the scents, the color that filled the air.  \\n \\nNow her bosom rose and fell tumultuously. She was beginning to recognize this thing that \\nwas approaching to possess her, and she was striving to beat it back with her will --as \\npowerless as her two wh ite slender hands would have been.  \\n \\nWhen she abandoned herself a little whispered word escaped her slightly parted lips. She \\nsaid it over and over under her breath: \"free, free, free!\" The vacant stare and the look of \\nterror that had followed it went from her eyes. They stayed keen and bright. Her pulses beat \\nfast, and the coursing blood warmed and relaxed every inch of her body.   \\nShe did not stop to ask if it were or were not a monstrous joy that held her. A clear and \\nexalted perception enabled her to dism iss the suggestion as trivial.  \\n \\nShe knew that she would weep again when she saw the kind, tender hands folded in death; \\nthe face that had never looked save with love upon her, fixed and gray and dead. But she \\nsaw beyond that bitter moment a long procession  of years to come that would belong to her \\nabsolutely. And she opened and spread her arms out to them in welcome.  \\n \\nThere would be no one to live for during those coming years; she would live for herself. \\nThere would be no powerful will bending hers in that  blind persistence with which men and \\nwomen believe they have a right to impose a private will upon a fellow -creature. A kind \\nintention or a cruel intention made the act seem no less a crime as she looked upon it in that \\nbrief moment of illumination.  \\n \\nAnd yet she had loved him --sometimes. Often she had not. What did it matter! What could \\nlove, the unsolved mystery, count for in face of this possession of self -assertion which she \\nsuddenly recognized as the strongest impulse of her being!  \\n \\n\"Free! Body and sou l free!\" she kept whispering.  \\n \\nJosephine was kneeling before the closed door with her lips to the keyhole, imploring for \\nadmission. \"Louise, open the door! I beg, open the door --you will make yourself ill. What \\nare you doing Louise? For heaven\\'s sake open the door.\"  \\n \\n\"Go away. I am not making myself ill.\" No; she was drinking in a very elixir of life through \\nthat open window.  \\n \\nHer fancy was running riot along those days ahead of her. Spring days, and summer days, \\nand all sorts of days that would be her own.  She breathed a quick prayer that life might be \\nlong. It was only yesterday she had thought with a shudder that life might be long.  \\n \\nShe arose at length and opened the door to her sister\\'s importunities. There was a feverish \\ntriumph in her eyes, and she ca rried herself unwittingly like a goddess of Victory. She \\nclasped her sister\\'s waist, and together they descended the stairs. Richards stood waiting for \\nthem at the bottom.  \\n \\nSome one was opening the front door with a latchkey. It was Brently Mallard who ent ered, a \\nlittle travel -stained, composedly carrying his grip -sack and umbrella. He had been far from \\nthe scene of accident, and did not even know there had been one. He stood amazed at \\nJosephine\\'s piercing cry; at Richards\\' quick motion to screen him from t he view of his wife.  \\n \\nBut Richards was too late.  \\n \\nWhen the doctors came they said she had died of heart disease --of joy that kills.  \\n \\n \\n 7 \\n Girl \\nby Jamaica Kincaid  \\n \\nWash the white clothes on Monday and put them on the stone heap; wash \\nthe color clothes on Tuesd ay and put them on the clothesline to dry; don’t \\nwalk barehead in the hot sun; cook pumpkin fritters1 in very hot sweet oil; \\nsoak your little cloths right after you take them off; when buying cotton to \\nmake yourself a nice blouse, be sure that it doesn’t h ave gum2 on it, \\nbecause that way it won’t hold up well after a wash; soak salt fish overnight \\nbefore you cook it; is it true that you sing benna3 in Sunday school?; always \\neat your food in such a way that it won’t turn someone else’s stomach; on \\nSundays tr y to walk like a lady and not like the slut you are so bent on \\nbecoming; don’t sing benna in Sunday school; you mustn’t speak to wharf -\\nrat boys, not even to give directions; don’t eat fruits on the street – flies will \\nfollow you; but I don’t sing benna on Sundays at all and never in Sunday \\nschool; this is how to sew on a button; this is how to make a button -hole for \\nthe button you have just sewed on; this is how to hem a dress when you see \\nthe hem coming down and so to prevent yourself from looking like the  slut \\nI know you are so bent on becoming; this is how you iron your father’s \\nkhaki shirt so that it doesn’t have a crease; this is how you iron your \\nfather’s khaki pants so that they don’t have a crease; this is how you grow \\nokra – far from the house, beca use okra4 tree harbors red ants; when you \\nare growing dasheen5, make sure it gets plenty of water or else it makes \\nyour throat itch when you are eating it; this is how you sweep a corner; this \\nis how you sweep a whole house; this is how you sweep a yard; t his is how \\nyou smile to someone you don’t like too much; this is how you smile to \\nsomeone you don’t like at all; this is how you smile to someone you like \\ncompletely; this is how you set a table for tea; this is how you set a table for \\ndinner; this is how you set a table for dinner with an important guest; this is \\nhow you set a table for lunch; this is how you set a table for breakfast; this \\nis how to behave in the presence of men who don’t know you very well, \\nand this way they won’t recognize immediately t he slut I have warned you \\nagainst becoming; be sure to wash every day, even if it is with your own \\nspit; don’t squat down to play marbles – you are not a boy, you know; don’t \\npick people’s flowers – you might catch something; don’t throw stones at \\nblackbir ds, because it might not be a blackbird at all; this is how to make a \\nbread pudding; this is how to make doukona6; this is how to make pepper \\npot7; this is how to make a good medicine for a cold; this is how to make a \\ngood medicine to throw away a child be fore it even becomes a child; this is \\nhow to catch a fish; this is how to throw back a fish you don’t like, and that   \\n \\n \\nway something bad won’t fall on you; this is how to bully a man; this is \\nhow a man bullies you; this is how to love a man; and if this doesn’t work \\nthere are other ways, and if they don’t work don’t feel too bad about giving \\nup; this is how to spit up in the air if you feel like it, and this is how to \\nmove quick so that it doesn’t fall on you; this is how to make ends meet; \\nalways squeeze  bread to make sure it’s fresh; but what if the baker won’t let \\nme feel the bread?; you mean to say that after all you are really going to be \\nthe kind of woman who the baker won’t let near the bread?  \\n_____________________________  \\n \\n \\n \\n \\n \\n \\n \\n \\n \\n \\n \\n \\n \\n \\n \\n \\n \\n \\n \\n \\n \\n \\n1 fritters: small fried cakes of batter, often containing vegetables, fruit, or other fillings  \\n2 gum: plant residue on cotton  \\n3 sing benna: sing popular music (not appropriate for Sunday school)  \\n4 okra: a shrub whose pods are used in soups, stews, and gumbo  \\n5 dasheen: the taro plant, cultivated, like the potato, for its edible tuber  \\n6 doukona: plantain pudding; the plantain fruit is similar to the banana  \\n7 pepper pot: a spicy West Indian stew  '"
            ],
            "application/vnd.google.colaboratory.intrinsic+json": {
              "type": "string"
            }
          },
          "metadata": {},
          "execution_count": 21
        }
      ]
    },
    {
      "cell_type": "code",
      "source": [
        "cassio.init(token=ASTRA_DB_APPLICATION_TOKEN, database_id=ASTRA_DB_ID)"
      ],
      "metadata": {
        "id": "2komR81okMMd"
      },
      "execution_count": 22,
      "outputs": []
    },
    {
      "cell_type": "code",
      "source": [
        "llm = OpenAI(openai_api_key=OPENAI_API_KEY)\n",
        "embedding = OpenAIEmbeddings(openai_api_key=OPENAI_API_KEY)"
      ],
      "metadata": {
        "id": "Suoog9OtkMP5",
        "outputId": "a335cf6c-8e8e-4b7d-cb71-9405747d2b3f",
        "colab": {
          "base_uri": "https://localhost:8080/"
        }
      },
      "execution_count": 23,
      "outputs": [
        {
          "output_type": "stream",
          "name": "stderr",
          "text": [
            "<ipython-input-23-9c33d76eff6b>:1: LangChainDeprecationWarning: The class `OpenAI` was deprecated in LangChain 0.0.10 and will be removed in 1.0. An updated version of the class exists in the :class:`~langchain-openai package and should be used instead. To use it run `pip install -U :class:`~langchain-openai` and import as `from :class:`~langchain_openai import OpenAI``.\n",
            "  llm = OpenAI(openai_api_key=OPENAI_API_KEY)\n",
            "<ipython-input-23-9c33d76eff6b>:2: LangChainDeprecationWarning: The class `OpenAIEmbeddings` was deprecated in LangChain 0.0.9 and will be removed in 1.0. An updated version of the class exists in the :class:`~langchain-openai package and should be used instead. To use it run `pip install -U :class:`~langchain-openai` and import as `from :class:`~langchain_openai import OpenAIEmbeddings``.\n",
            "  embedding = OpenAIEmbeddings(openai_api_key=OPENAI_API_KEY)\n"
          ]
        }
      ]
    },
    {
      "cell_type": "code",
      "source": [
        "astra_vector_store = Cassandra(\n",
        "    embedding=embedding,\n",
        "    table_name=\"qa_mini_demo\",\n",
        "    session=None,\n",
        "    keyspace=None,\n",
        ")"
      ],
      "metadata": {
        "id": "qEEzz0POkG4O"
      },
      "execution_count": 24,
      "outputs": []
    },
    {
      "cell_type": "code",
      "source": [
        "from langchain.text_splitter import CharacterTextSplitter\n",
        "# We need to split the text using Character Text Split such that it sshould not increse token size\n",
        "text_splitter = CharacterTextSplitter(\n",
        "    separator = \"\\n\",\n",
        "    chunk_size = 800,\n",
        "    chunk_overlap  = 200,\n",
        "    length_function = len,\n",
        ")\n",
        "texts = text_splitter.split_text(raw_text)"
      ],
      "metadata": {
        "id": "QSWSAink-403"
      },
      "execution_count": 25,
      "outputs": []
    },
    {
      "cell_type": "code",
      "source": [
        "texts[:50]"
      ],
      "metadata": {
        "colab": {
          "base_uri": "https://localhost:8080/"
        },
        "id": "psJSq-Gi-43b",
        "outputId": "f6088a0b-14e8-4150-a14b-8cd785fe2ec9"
      },
      "execution_count": 26,
      "outputs": [
        {
          "output_type": "execute_result",
          "data": {
            "text/plain": [
              "[\"1 \\n A&P   \\nby John Updike - 1962  \\nIn walks these three girls in nothing but bathing suits. I'm in the third check -out \\nslot, with my back to the door, so I don't see them until they're over by the bread. \\nThe one that caught my eye first was the one in the plaid gr een two -piece. She \\nwas a chunky kid, with a good tan and a sweet broad soft -looking can with those \\ntwo crescents of white just under it, where the sun never seems to hit, at the top \\nof the backs of her legs. I stood there with my hand on a box of HiHo crac kers \\ntrying to remember if I rang it up or not. I ring it up again and the customer starts \\ngiving me hell. She's one of these cash -register -watchers, a witch about fifty with \\nrouge on her cheekbones and no eyebrows, and I know it made her day to trip\",\n",
              " \"giving me hell. She's one of these cash -register -watchers, a witch about fifty with \\nrouge on her cheekbones and no eyebrows, and I know it made her day to trip \\nme up . She'd been watching cash registers forty years and probably never seen a \\nmistake before.  \\nBy the time I got her feathers smoothed and her goodies into a bag -- she gives \\nme a little snort in passing, if she'd been born at the right time they would have \\nburned her over in Salem -- by the time I get her on her way the girls had circled \\naround the bread and were coming back, without a pushcart, back my way along \\nthe counters, in the aisle between the check -outs and the Special bins. They \\ndidn't even have sho es on. There was this chunky one, with the two -piece -- it\",\n",
              " 'the counters, in the aisle between the check -outs and the Special bins. They \\ndidn\\'t even have sho es on. There was this chunky one, with the two -piece -- it \\nwas bright green and the seams on the bra were still sharp and her belly was still \\npretty pale so I guessed she just got it (the suit) -- there was this one, with one of \\nthose chubby berry -faces, t he lips all bunched together under her nose, this one, \\nand a tall one, with black hair that hadn\\'t quite frizzed right, and one of these \\nsunburns right across under the eyes, and a chin that was too long -- you know, \\nthe kind of girl other girls think is v ery \"striking\" and \"attractive\" but never quite \\nmakes it, as they very well know, which is why they like her so much -- and then',\n",
              " 'the kind of girl other girls think is v ery \"striking\" and \"attractive\" but never quite \\nmakes it, as they very well know, which is why they like her so much -- and then \\nthe third one, that wasn\\'t quite so tall. She was the queen. She kind of led them, \\nthe other two peeking around and making thei r shoulders round. She didn\\'t look \\naround, not this queen, she just walked straight on slowly, on these long white \\nprima donna legs. She came down a little hard on her heels, as if she didn\\'t walk \\nin her bare feet that much, putting down her heels and then  letting the weight \\nmove along to her toes as if she was testing the floor with every step, putting a \\nlittle deliberate extra action into it. You never know for sure how girls\\' minds',\n",
              " \"move along to her toes as if she was testing the floor with every step, putting a \\nlittle deliberate extra action into it. You never know for sure how girls' minds \\nwork (do you really think it's a mind in there or just a little buzz like  a bee in a \\nglass jar?) but you got the idea she had talked the other two into coming in here \\nwith her, and now she was showing them how to do it, walk slow and hold \\nyourself straight.  She had on a kind of dirty -pink - - beige maybe, I don't know -- bathi ng suit with \\na little nubble all over it and, what got me, the straps were down. They were off \\nher shoulders looped loose around the cool tops of her arms, and I guess as a \\nresult the suit had slipped a little on her, so all around the top of the cloth the re\",\n",
              " \"her shoulders looped loose around the cool tops of her arms, and I guess as a \\nresult the suit had slipped a little on her, so all around the top of the cloth the re \\nwas this shining rim. If it hadn't been there you wouldn't have known there could \\nhave been anything whiter than those shoulders. With the straps pushed off, there \\nwas nothing between the top of the suit and the top of her head except just her, \\nthis cle an bare plane of the top of her chest down from the shoulder bones like a \\ndented sheet of metal tilted in the light. I mean, it was more than pretty.  \\nShe had sort of oaky hair that the sun and salt had bleached, done up in a bun \\nthat was unraveling, and a  kind of prim face. Walking into the A & P with your\",\n",
              " \"She had sort of oaky hair that the sun and salt had bleached, done up in a bun \\nthat was unraveling, and a  kind of prim face. Walking into the A & P with your \\nstraps down, I suppose it's the only kind of face you can have. She held her head \\nso high her neck, coming up out of those white shoulders, looked kind of \\nstretched, but I didn't mind. The longer her nec k was, the more of her there was.  \\nShe must have felt in the corner of her eye me and over my shoulder Stokesie in \\nthe second slot watching, but she didn't tip. Not this queen. She kept her eyes \\nmoving across the racks, and stopped, and turned so slow it m ade my stomach \\nrub the inside of my apron, and buzzed to the other two, who kind of huddled\",\n",
              " 'moving across the racks, and stopped, and turned so slow it m ade my stomach \\nrub the inside of my apron, and buzzed to the other two, who kind of huddled \\nagainst her for relief, and they all three of them went up the cat -and-dog-food-\\nbreakfast -cereal -macaroni -rice-raisins -seasonings -spreads -spaghetti -soft drinks - \\ncrackers -and- cookies aisle. From the third slot I look straight up this aisle to the \\nmeat counter, and I watched them all the way. The fat one with the tan sort of \\nfumbled with the cookies, but on second thought she put the packages back. The \\nsheep pushing t heir carts down the aisle -- the girls were walking against the \\nusual traffic (not that we have one -way signs or anything) -- were pretty',\n",
              " 'sheep pushing t heir carts down the aisle -- the girls were walking against the \\nusual traffic (not that we have one -way signs or anything) -- were pretty \\nhilarious. You could see them, when Queenie\\'s white shoulders dawned on them, \\nkind of jerk, or hop, or hiccup, but the ir eyes snapped back to their own baskets \\nand on they pushed. I bet you could set off dynamite in an A & P and the people \\nwould by and large keep reaching and checking oatmeal off their lists and \\nmuttering \"Let me see, there was a third thing, began with A , asparagus, no, ah, \\nyes, applesauce!\" or whatever it is they do mutter. But there was no doubt, this \\njiggled them. A few house -slaves in pin curlers even looked around after pushing \\ntheir carts past to make sure what they had seen was correct.',\n",
              " 'jiggled them. A few house -slaves in pin curlers even looked around after pushing \\ntheir carts past to make sure what they had seen was correct.  \\nYou know, it\\'s one thing to have a girl in a bathing suit down on the beach, \\nwhere what with the glare nobody can look at each other much anyway, and \\nanother thing in the cool of the A & P, under the fluorescent lights, against all \\nthose stacked packages, with her f eet paddling along naked over our \\ncheckerboard green -and-cream rubber -tile floor.  2 \\n \"Oh Daddy,\" Stokesie said beside me. \"I feel so faint.\"  \\n\"Darling,\" I said. \"Hold me tight.\" Stokesie\\'s married, with two babies chalked \\nup on his fuselage already, but as f ar as I can tell that\\'s the only difference. He\\'s \\ntwenty -two, and I was nineteen this April.',\n",
              " 'up on his fuselage already, but as f ar as I can tell that\\'s the only difference. He\\'s \\ntwenty -two, and I was nineteen this April.  \\n\"Is it done?\" he asks, the responsible married man finding his voice. I forgot to \\nsay he thinks he\\'s going to be manager some sunny day, maybe in 1990 when it\\'s \\ncalled the Great Alexandrov and Petrooshki Tea Company or something.  \\nWhat he meant was, our town is five miles from a beach, with a big summer \\ncolony out on the Point, but we\\'re right in the middle of town, and the women \\ngenerally put on a shirt or shorts or something before they get out of the car into \\nthe street. And anyway these are usually women with six children and varicose \\nveins mapping their legs and nobody, including them, could care less. As I say,',\n",
              " \"the street. And anyway these are usually women with six children and varicose \\nveins mapping their legs and nobody, including them, could care less. As I say, \\nwe're right in the middle of town, and if you sta nd at our front doors you can see \\ntwo banks and the Congregational church and the newspaper store and three real -\\nestate offices and about twenty -seven old free -loaders tearing up Central Street \\nbecause the sewer broke again. It's not as if we're on the Cap e; we're north of \\nBoston and there's people in this town haven't seen the ocean for twenty years.  \\nThe girls had reached the meat counter and were asking McMahon something. \\nHe pointed, they pointed, and they shuffled out of sight behind a pyramid of Diet\",\n",
              " \"The girls had reached the meat counter and were asking McMahon something. \\nHe pointed, they pointed, and they shuffled out of sight behind a pyramid of Diet \\nDelight peaches. All that was left for us to see was old McMahon patting his \\nmouth and looking after them sizing up their joints. Poor kids, I began to feel \\nsorry for them, they couldn't help it.  \\nNow here comes the sad part of the story, at least my family  says it's sad but I \\ndon't think it's sad myself. The store's pretty empty, it being Thursday afternoon, \\nso there was nothing much to do except lean on the register and wait for the girls \\nto show up again. The whole store was like a pinball machine and I d idn't know \\nwhich tunnel they'd come out of. After a while they come around out of the far\",\n",
              " \"to show up again. The whole store was like a pinball machine and I d idn't know \\nwhich tunnel they'd come out of. After a while they come around out of the far \\naisle, around the light bulbs, records at discount of the Caribbean Six or Tony \\nMartin Sings or some such gunk you wonder they waste the wax on, six packs of \\ncandy ba rs, and plastic toys done up in cellophane that fall apart when a kid \\nlooks at them anyway. Around they come, Queenie still leading the way, and \\nholding a little gray jar in her hand. Slots Three through Seven are unmanned \\nand I could see her wondering bet ween Stokes and me, but Stokesie with his \\nusual luck draws an old party in baggy gray pants who stumbles up with four \\ngiant cans of pineapple juice (what do these bums do with all that pineapple juice\",\n",
              " \"usual luck draws an old party in baggy gray pants who stumbles up with four \\ngiant cans of pineapple juice (what do these bums do with all that pineapple juice \\nI've often asked myself) so the girls come to me. Queen ie puts down the jar and I take it into my fingers icy cold. Kingfish Fancy Herring Snacks in Pure Sour \\nCream: 49¢. Now her hands are empty, not a ring or a bracelet, bare as God \\nmade them, and I wonder where the money's coming from. Still with that prim \\nlook she lifts a folded dollar bill out of the hollow at the center of her nubbled \\npink top. The jar went heavy in my hand. Really, I thought that was so cute.  \\nThen everybody's luck begins to run out. Lengel comes in from haggling with a \\ntruck full of cabb ages on the lot and is about to scuttle into that door marked\",\n",
              " 'Then everybody\\'s luck begins to run out. Lengel comes in from haggling with a \\ntruck full of cabb ages on the lot and is about to scuttle into that door marked \\nMANAGER behind which he hides all day when the girls touch his eye. Lengel\\'s \\npretty dreary, teaches Sunday school and the rest, but he doesn\\'t miss that much. \\nHe comes over and says, \"Girls, thi s isn\\'t the beach.\"  \\nQueenie blushes, though maybe it\\'s just a brush of sunburn I was noticing for the \\nfirst time, now that she was so close. \"My mother asked me to pick up a jar of \\nherring snacks.\" Her voice kind of startled me, the way voices do when you  see \\nthe people first, coming out so flat and dumb yet kind of tony, too, the way it \\nticked over \"pick up\" and \"snacks.\" All of a sudden I slid right down her voice',\n",
              " 'the people first, coming out so flat and dumb yet kind of tony, too, the way it \\nticked over \"pick up\" and \"snacks.\" All of a sudden I slid right down her voice \\ninto her living room. Her father and the other men were standing around in ice -\\ncream coats and bow ties and the women were in sandals picking up herring \\nsnacks on toothpicks off a big plate and they were all holding drinks the color of \\nwater with olives and sprigs of mint in them. When my parents have somebody \\nover they get lemonade and if it\\'s a real racy affair Schlitz in tall glasses with \\n\"They\\'ll Do It Every Time\" cartoons stenciled on.  \\n\"That\\'s all right,\" Lengel said. \"But this isn\\'t the beach.\" His repeating this struck \\nme as funny, as if it had just occurred to him, and he had been thinki ng all these',\n",
              " '\"That\\'s all right,\" Lengel said. \"But this isn\\'t the beach.\" His repeating this struck \\nme as funny, as if it had just occurred to him, and he had been thinki ng all these \\nyears the A & P was a great big dune and he was the head lifeguard. He didn\\'t \\nlike my smiling -- -as I say he doesn\\'t miss much -- but he concentrates on giving \\nthe girls that sad Sunday - school -superintendent stare.  \\nQueenie\\'s blush is no sun burn now, and the plump one in plaid, that I liked better \\nfrom the back -- a really sweet can -- pipes up, \"We weren\\'t doing any shopping. \\nWe just came in for the one thing.\"  \\n\"That makes no difference,\" Lengel tells her, and I could see from the way his \\neyes went that he hadn\\'t noticed she was wearing a two -piece before. \"We want',\n",
              " 'We just came in for the one thing.\"  \\n\"That makes no difference,\" Lengel tells her, and I could see from the way his \\neyes went that he hadn\\'t noticed she was wearing a two -piece before. \"We want \\nyou decently dressed when you come in here.\"  \\n\"We are decent,\" Queenie says suddenly, her lower lip pushing, getting sore now \\nthat she remembers her place, a place from which the crowd that runs the A & P \\nmust look pretty crummy. Fancy Herring Snacks flashed in her very blue eyes.  3 \\n \"Girls, I don\\'t want to argue with you. After this come in here with your \\nshoulders covered. It\\'s our policy.\" He turns his back. That\\'s policy for you.  \\nPolicy is what the kingpins want. What the others want is juvenile delinquency.',\n",
              " 'shoulders covered. It\\'s our policy.\" He turns his back. That\\'s policy for you.  \\nPolicy is what the kingpins want. What the others want is juvenile delinquency.  \\nAll this while, the customers had been showing up with their carts but, you \\nknow, sheep, seeing a scene, they had all bunched up on Stokesie, who shook \\nopen a paper bag as ge ntly as peeling a peach, not wanting to miss a word. I \\ncould feel in the silence everybody getting nervous, most of all Lengel, who asks \\nme, \"Sammy, have you rung up this purchase?\"  \\nI thought and said \"No\" but it wasn\\'t about that I was thinking. I go thr ough the \\npunches, 4, 9, GROC, TOT -- it\\'s more complicated than you think, and after you \\ndo it often enough, it begins to make a little song, that you hear words to, in my',\n",
              " 'punches, 4, 9, GROC, TOT -- it\\'s more complicated than you think, and after you \\ndo it often enough, it begins to make a little song, that you hear words to, in my \\ncase \"Hello (bing)  there, you (gung)  hap-py pee -pul (splat) \"-the splat being the \\ndrawer flying out. I uncrease the bill, tenderly as you may imagine, it just having \\ncome from between the two smoothest scoops of vanilla I had ever known were \\nthere, and pass a half and a penny into her narrow pink palm, and nestle the \\nherrings in a bag and twist its neck and hand it over, all the time thinking.  \\nThe girls, and who\\'d blame them, are in a hurry to get out, so I say \"I quit\" to \\nLengel quick enough for them to hear, hoping they\\'ll stop and watch me, their',\n",
              " 'The girls, and who\\'d blame them, are in a hurry to get out, so I say \"I quit\" to \\nLengel quick enough for them to hear, hoping they\\'ll stop and watch me, their \\nunsuspected hero. They keep right on goi ng, into the electric eye; the door flies \\nopen and they flicker across the lot to their car, Queenie and Plaid and Big Tall \\nGoony -Goony (not that as raw material she was so bad), leaving me with Lengel \\nand a kink in his eyebrow.  \\n\"Did you say something, Sa mmy?\"  \\n\"I said I quit.\"  \\n\"I thought you did.\"  \\n\"You didn\\'t have to embarrass them.\"  \\n\"It was they who were embarrassing us.\"  \\nI started to say something that came out \"Fiddle -de-doo.\" It\\'s a saying of my \\ngrandmother\\'s, and I know she would have been please d.',\n",
              " '\"It was they who were embarrassing us.\"  \\nI started to say something that came out \"Fiddle -de-doo.\" It\\'s a saying of my \\ngrandmother\\'s, and I know she would have been please d.  \\n\"I don\\'t think you know what you\\'re saying,\" Lengel said.  \"I know you don\\'t,\" I said. \"But I do.\" I pull the bow at the back of my apron and \\nstart shrugging it off my shoulders. A couple customers that had been heading \\nfor my slot begin to knock again st each other, like scared pigs in a chute.  \\nLengel sighs and begins to look very patient and old and gray. He\\'s been a friend \\nof my parents for years. \"Sammy, you don\\'t want to do this to your Mom and \\nDad,\" he tells me. It\\'s true, I don\\'t. But it seems to  me that once you begin a',\n",
              " 'of my parents for years. \"Sammy, you don\\'t want to do this to your Mom and \\nDad,\" he tells me. It\\'s true, I don\\'t. But it seems to  me that once you begin a \\ngesture it\\'s fatal not to go through with it. I fold the apron, \"Sammy\" stitched in \\nred on the pocket, and put it on the counter, and drop the bow tie on top of it. \\nThe bow tie is theirs, if you\\'ve ever wondered. \"You\\'ll feel this  for the rest of \\nyour life,\" Lengel says, and I know that\\'s true, too, but remembering how he \\nmade that pretty girl blush makes me so scrunchy inside I punch the No Sale tab \\nand the machine whirs \"pee -pul\" and the drawer splats out. One advantage to this \\nscene taking place in summer, I can follow this up with a clean exit, there\\'s no',\n",
              " 'and the machine whirs \"pee -pul\" and the drawer splats out. One advantage to this \\nscene taking place in summer, I can follow this up with a clean exit, there\\'s no \\nfumbling around getting your coat and galoshes, I just saunter into the electric \\neye in my white shirt that my mother ironed the night before, and the door \\nheaves itself open, and outside the sunshine is skating around on the asphalt.  \\nI look around for my girls, but they\\'re gone, of course. There wasn\\'t anybody but \\nsome young married screaming with her children about some candy they didn\\'t \\nget by the door of a powder -blue Falco n station wagon. Looking back in the big \\nwindows, over the bags of peat moss and aluminum lawn furniture stacked on \\nthe pavement, I could see Lengel in my place in the slot, checking the sheep',\n",
              " \"windows, over the bags of peat moss and aluminum lawn furniture stacked on \\nthe pavement, I could see Lengel in my place in the slot, checking the sheep \\nthrough. His face was dark gray and his back stiff, as if he'd just had an injection \\nof iron, and my stomach kind of fell as I felt how hard the world was going to be \\nto me hereafter.  \\n \\n \\n \\n \\n \\n \\n \\n \\n \\n \\n \\n \\n \\n 4 \\n A CLEAN, WELL -LIGHTED PLACE (1933)  \\nBy Ernest Hemingway  \\n \\n \\nIt was late and every one had left the cafe except an old man w ho sat in the \\nshadow the leaves of the tree made against the electric light. In the day time \\nthe street was dusty; but at night the dew settled the dust and the old man \\nliked to sit late because he was deaf and now at night it was quiet and he felt\",\n",
              " 'the street was dusty; but at night the dew settled the dust and the old man \\nliked to sit late because he was deaf and now at night it was quiet and he felt \\nthe dif ference. The two waiters inside the cafe knew that the old man was a \\nlittle drunk, and while he was a good client they knew that if he became too \\ndrunk he would leave without paying, so they kept watch on him.  \\n\"Last week he tried to commit suicide,\" one w aiter said.  \\n\"Why?\"  \\n\"He was in despair.\"  \\n\"What about?\"  \\n\"Nothing.\"  \\nHow do you know it was nothing?\"  \\n\"He has plenty of money.\"  \\nThey sat together at a table that was close against the wall near the door of the \\ncafe and looked at the terrace where the tables w ere all empty except where',\n",
              " '\"He has plenty of money.\"  \\nThey sat together at a table that was close against the wall near the door of the \\ncafe and looked at the terrace where the tables w ere all empty except where \\nthe old man sat in the shadow of the leaves of the tree that moved slightly in \\nthe wind. A girl and a soldier went by in the street. The street light shone on \\nthe brass number on his collar. The girl wore no head covering and hur ried \\nbeside him.  \\n\"The guard will pick him up,\" one waiter said.  \\n\"What does it matter if he gets what he\\'s after?\"  \\n\"He had better get off the street now. The guard will get him. They went by \\nfive minutes ago.\"  \\nThe old man sitting in the shadow rapped on his  saucer with his glass. The \\nyounger waiter went over to him.  \\n\"What do you want?\"',\n",
              " 'five minutes ago.\"  \\nThe old man sitting in the shadow rapped on his  saucer with his glass. The \\nyounger waiter went over to him.  \\n\"What do you want?\"  \\nThe old man looked at him. \"Another brandy,\" he said.  \\n\"You\\'ll be drunk,\" the waiter said. The old man looked at him. The waiter \\nwent away.  \\n\"He\\'ll stay all night,\" he said to h is colleague. \"I\\'m sleepy now. I never get into \\nbed before three o\\'clock. He should have killed himself last week.\"  \\nThe waiter took the brandy bottle and another saucer from the counter inside \\nthe cafe and marched out to the old man\\'s table. He put down th e saucer and \\npoured the glass full of brandy.  \\n\"You should have killed yourself last week,\" he said to the deaf man. The old',\n",
              " 'the cafe and marched out to the old man\\'s table. He put down th e saucer and \\npoured the glass full of brandy.  \\n\"You should have killed yourself last week,\" he said to the deaf man. The old \\nman motioned with his finger.  \"A little more,\" he said. The waiter poured on into the glass so that \\nthe brandy slopped over and ran down the stem into the top saucer of \\nthe pile. \"Thank you,\" the old man said. The waiter took the bottle \\nback inside the cafe. He sat down at the table with his colleague again.  \\n\"He\\'s drunk now,\" he said.  \\n\"He\\'s drunk every night.\"  \\n\"What did he want to kill  himself for?\"  \\n\"How should I know.\"  \\n\"How did he do it?\"  \\n\"He hung himself with a rope.\"  \\n\"Who cut him down?\"  \\n\"His niece.\"  \\n\"Why did he do it?\"  \\n\"For his soul.\"  \\n\"How much money has he got?\"',\n",
              " '\"How should I know.\"  \\n\"How did he do it?\"  \\n\"He hung himself with a rope.\"  \\n\"Who cut him down?\"  \\n\"His niece.\"  \\n\"Why did he do it?\"  \\n\"For his soul.\"  \\n\"How much money has he got?\"  \\n\"He\\'s got plenty.\"  \\n\"He must be eighty years old.\"  \\n\"Anyway I should say he was eighty.\"  \\n\"I wish he would go home. I never get to bed before three o\\'clock. \\nWhat kind of hour is that to go to bed?\"  \\n\"He stays up because he likes it.\"  \\n\"He\\'s lonely. I\\'m not lonely. I have a wife waiting in bed for me.\"  \\n\"He had a wife once too.\"  \\n\"A wife would be no good to him now.\"  \\n\"You can\\'t tell. He might be better with a wife.\"  \\n\"His niece looks after him.\"  \\n\"I know. You said she cut him down.\"  \\n\"I wouldn\\'t want to be that old. An old man is a nasty thing.\"',\n",
              " '\"You can\\'t tell. He might be better with a wife.\"  \\n\"His niece looks after him.\"  \\n\"I know. You said she cut him down.\"  \\n\"I wouldn\\'t want to be that old. An old man is a nasty thing.\"  \\n\"Not always. This old man is clean. He dri nks without spilling. Even \\nnow, drunk. Look at him.\"  \\n\"I don\\'t want to look at him. I wish he would go home. He has no \\nregard for those who must work.\"  \\nThe old man looked from his glass across the square, then over at the \\nwaiters.  \\n\"Another brandy,\" he said,  pointing to his glass. The waiter who was \\nin a hurry came over.  \\n\"Finished,\" he said, speaking with that omission of syntax stupid \\npeople employ when talking to drunken people or foreigners. \"No \\nmore tonight. Close now.\"  \\n\"Another,\" said the old man.  5',\n",
              " '\"Finished,\" he said, speaking with that omission of syntax stupid \\npeople employ when talking to drunken people or foreigners. \"No \\nmore tonight. Close now.\"  \\n\"Another,\" said the old man.  5 \\n \"No. F inished.\" The waiter wiped the edge of the table with a towel \\nand shook his head.  \\nThe old man stood up, slowly counted the saucers, took a leather coin purse \\nfrom his pocket and paid for the drinks, leaving half a peseta tip.  \\nThe waiter watched him go down  the street, a very old man walking unsteadily \\nbut with dignity,.  \\n\"Why didn\\'t you let him stay and drink?\" the unhurried waiter asked. They \\nwere putting up the shutters. \"It is not half -past two.\"  \\n\"I want to go home to bed.\"  \\n\"What is an hour?\"  \\n\"More to me  than to him.\"  \\n\"An hour is the same.\"',\n",
              " 'were putting up the shutters. \"It is not half -past two.\"  \\n\"I want to go home to bed.\"  \\n\"What is an hour?\"  \\n\"More to me  than to him.\"  \\n\"An hour is the same.\"  \\n\"You talk like an old man yourself. He can buy a bottle and drink at home.\"  \\n\"It\\'s not the same.\"  \\n\"No, it is not,\" agreed the waiter with a wife. He did not wish to be unjust. He \\nwas only in a hurry.  \\n\"And you? You have no fear of going home before your usual hour?\"  \\n\"Are you trying to insult me?\"  \\n\"No, hombre, only to make a joke.\"  \\n\"No,\" the waiter who was in a hurry said, rising from putting on the metal \\nshutters. \"I have confidence. I am all confidence.\"  \\n\"You have youth,  confidence, and a job,\" the older waiter said. \"You have \\neverything.\"  \\n\"And what do you lack?\"  \\n\"Everything but work.\"',\n",
              " 'shutters. \"I have confidence. I am all confidence.\"  \\n\"You have youth,  confidence, and a job,\" the older waiter said. \"You have \\neverything.\"  \\n\"And what do you lack?\"  \\n\"Everything but work.\"  \\n\"You have everything I have.\"  \\n\"No. I have never had confidence and I\\'m not young.\"  \\n\"Come on. Stop talking nonsense and lock up.\"  \\n\"I am of those who like to stay late at the cafe,\" the older waiter said.  \\n\"With all those who do not want to go to bed. With all those who need a light \\nfor the night.\"  \\n\"I want to go home and into bed.\"  \\n\"We are of two different kinds,\" the older waiter said. He wa s now dressed to \\ngo home. \"It is not only a question of youth and confidence although those \\nthings are very beautiful. Each night I am reluctant to close up because there',\n",
              " 'go home. \"It is not only a question of youth and confidence although those \\nthings are very beautiful. Each night I am reluctant to close up because there \\nmay be some one who needs the cafe.\"  \\n\"Hombre, there are bodegas open all night long. \" \\n\"You do not understand. This is a clean and pleasant cafe. It is well lighted. \\nThe light is very good and also, now, there are shadows of the leaves.\"  \\n\"Good night,\" said the younger waiter.  \"Good night,\" the other said. Turning off the electric light he continued the \\nconversation with himself. It is the light of course but it is necessary that the \\nplace be clean and light. You do not want music. Certainly you do not want \\nmusic. Nor can you stand before a bar with dignity although that is all that is',\n",
              " 'place be clean and light. You do not want music. Certainly you do not want \\nmusic. Nor can you stand before a bar with dignity although that is all that is \\nprovi ded for these hours. What did he fear? It was not fear or dread. It was a \\nnothing that he knew too well. It was all a nothing and a man was nothing too. \\nIt was only that and light was all it needed and a certain cleanness and order. \\nSome lived in it and ne ver felt it but he knew it was already nada y pues nada y \\npues nada. Our nada who art in nada, nada be thy name thy kingdom nada thy \\nwill be nada in nada as it is in nada. Give us this nada our daily nada and nada \\nus our nada as we nada our nadas and nada us not into nada but deliver us \\nfrom nada; pues nada. Hail nothing full of nothing, nothing is with thee. He',\n",
              " 'us our nada as we nada our nadas and nada us not into nada but deliver us \\nfrom nada; pues nada. Hail nothing full of nothing, nothing is with thee. He \\nsmiled and stood before a bar with a shining steam pressure coffee machine.  \\n\"What\\'s yours?\" asked the barman.  \\n\"Nada.\"  \\n\"Otro loco mas,\" said the ba rman and turned away.  \\n\"A little cup,\" said the waiter.  \\nThe barman poured it for him.  \\n\"The light is very bright and pleasant but the bar is unpolished,\" the waiter \\nsaid. \\nThe barman looked at him but did not answer. It was too late at night for \\nconversation . \\n\"You want another copita?\" the barman asked.  \\n\"No, thank you,\" said the waiter and went out. He disliked bars and bodegas. \\nA clean, well -lighted cafe was a very different thing. Now, without thinking',\n",
              " '\"No, thank you,\" said the waiter and went out. He disliked bars and bodegas. \\nA clean, well -lighted cafe was a very different thing. Now, without thinking \\nfurther, he would go home to his room. He would lie in the bed and finally, \\nwith daylight, he would go to sleep. After all, he said to himself, it is probably \\nonly insomnia. Many must have it.  \\n \\n \\n \\n \\n \\n \\n \\n \\n \\n \\n \\n 6 \\n The Story of an Hour  by Kate Chopin 1894  \\n \\nKnowing that Mrs. Mallard was afflicted with a heart trouble, g reat care was taken to break \\nto her as gently as possible the news of her husband\\'s death. It was her sister Josephine who \\ntold her, in broken sentences; veiled hints that revealed in half concealing. Her husband\\'s \\nfriend Richards was there, too, near her.  It was he who had been in the newspaper office',\n",
              " 'told her, in broken sentences; veiled hints that revealed in half concealing. Her husband\\'s \\nfriend Richards was there, too, near her.  It was he who had been in the newspaper office \\nwhen intelligence of the railroad disaster was received, with Brently Mallard\\'s name leading \\nthe list of \"killed.\" He had only taken the time to assure himself of its truth by a second \\ntelegram, and had haste ned to forestall any less careful, less tender friend in bearing the sad \\nmessage.  \\n \\nShe did not hear the story as many women have heard the same, with a paralyzed inability to \\naccept its significance. She wept at once, with sudden, wild abandonment, in her sister\\'s \\narms. When the storm of grief had spent itself she went away to her room alone. She would \\nhave no one follow her.',\n",
              " 'arms. When the storm of grief had spent itself she went away to her room alone. She would \\nhave no one follow her.  \\n \\nThere stood, facing the open window, a comfortable, roomy armchair. Into this she sank, \\npressed down by a physical exhaustion that h aunted her body and seemed to reach into her \\nsoul.  \\n \\nShe could see in the open square before her house the tops of trees that were all aquiver with \\nthe new spring life. The delicious breath of rain was in the air. In the street below a peddler \\nwas crying hi s wares. The notes of a distant song which some one was singing reached her \\nfaintly, and countless sparrows were twittering in the eaves.  \\n \\nThere were patches of blue sky showing here and there through the clouds that had met and',\n",
              " 'faintly, and countless sparrows were twittering in the eaves.  \\n \\nThere were patches of blue sky showing here and there through the clouds that had met and \\npiled one above the other i n the west facing her window.  \\n \\nShe sat with her head thrown back upon the cushion of the chair, quite motionless, except \\nwhen a sob came up into her throat and shook her, as a child who has cried itself to sleep \\ncontinues to sob in its dreams.  \\n \\nShe was you ng, with a fair, calm face, whose lines bespoke repression and even a certain \\nstrength. But now there was a dull stare in her eyes, whose gaze was fixed away off yonder \\non one of those patches of blue sky. It was not a glance of reflection, but rather indi cated a \\nsuspension of intelligent thought.',\n",
              " 'on one of those patches of blue sky. It was not a glance of reflection, but rather indi cated a \\nsuspension of intelligent thought.  \\n \\nThere was something coming to her and she was waiting for it, fearfully. What was it? She \\ndid not know; it was too subtle and elusive to name. But she felt it, creeping out of the sky, \\nreaching toward her through  the sounds, the scents, the color that filled the air.  \\n \\nNow her bosom rose and fell tumultuously. She was beginning to recognize this thing that \\nwas approaching to possess her, and she was striving to beat it back with her will --as \\npowerless as her two wh ite slender hands would have been.  \\n \\nWhen she abandoned herself a little whispered word escaped her slightly parted lips. She',\n",
              " 'powerless as her two wh ite slender hands would have been.  \\n \\nWhen she abandoned herself a little whispered word escaped her slightly parted lips. She \\nsaid it over and over under her breath: \"free, free, free!\" The vacant stare and the look of \\nterror that had followed it went from her eyes. They stayed keen and bright. Her pulses beat \\nfast, and the coursing blood warmed and relaxed every inch of her body.   \\nShe did not stop to ask if it were or were not a monstrous joy that held her. A clear and \\nexalted perception enabled her to dism iss the suggestion as trivial.  \\n \\nShe knew that she would weep again when she saw the kind, tender hands folded in death; \\nthe face that had never looked save with love upon her, fixed and gray and dead. But she',\n",
              " 'She knew that she would weep again when she saw the kind, tender hands folded in death; \\nthe face that had never looked save with love upon her, fixed and gray and dead. But she \\nsaw beyond that bitter moment a long procession  of years to come that would belong to her \\nabsolutely. And she opened and spread her arms out to them in welcome.  \\n \\nThere would be no one to live for during those coming years; she would live for herself. \\nThere would be no powerful will bending hers in that  blind persistence with which men and \\nwomen believe they have a right to impose a private will upon a fellow -creature. A kind \\nintention or a cruel intention made the act seem no less a crime as she looked upon it in that \\nbrief moment of illumination.',\n",
              " 'intention or a cruel intention made the act seem no less a crime as she looked upon it in that \\nbrief moment of illumination.  \\n \\nAnd yet she had loved him --sometimes. Often she had not. What did it matter! What could \\nlove, the unsolved mystery, count for in face of this possession of self -assertion which she \\nsuddenly recognized as the strongest impulse of her being!  \\n \\n\"Free! Body and sou l free!\" she kept whispering.  \\n \\nJosephine was kneeling before the closed door with her lips to the keyhole, imploring for \\nadmission. \"Louise, open the door! I beg, open the door --you will make yourself ill. What \\nare you doing Louise? For heaven\\'s sake open the door.\"  \\n \\n\"Go away. I am not making myself ill.\" No; she was drinking in a very elixir of life through \\nthat open window.',\n",
              " 'are you doing Louise? For heaven\\'s sake open the door.\"  \\n \\n\"Go away. I am not making myself ill.\" No; she was drinking in a very elixir of life through \\nthat open window.  \\n \\nHer fancy was running riot along those days ahead of her. Spring days, and summer days, \\nand all sorts of days that would be her own.  She breathed a quick prayer that life might be \\nlong. It was only yesterday she had thought with a shudder that life might be long.  \\n \\nShe arose at length and opened the door to her sister\\'s importunities. There was a feverish \\ntriumph in her eyes, and she ca rried herself unwittingly like a goddess of Victory. She \\nclasped her sister\\'s waist, and together they descended the stairs. Richards stood waiting for \\nthem at the bottom.',\n",
              " \"clasped her sister's waist, and together they descended the stairs. Richards stood waiting for \\nthem at the bottom.  \\n \\nSome one was opening the front door with a latchkey. It was Brently Mallard who ent ered, a \\nlittle travel -stained, composedly carrying his grip -sack and umbrella. He had been far from \\nthe scene of accident, and did not even know there had been one. He stood amazed at \\nJosephine's piercing cry; at Richards' quick motion to screen him from t he view of his wife.  \\n \\nBut Richards was too late.  \\n \\nWhen the doctors came they said she had died of heart disease --of joy that kills.  \\n \\n \\n 7 \\n Girl \\nby Jamaica Kincaid  \\n \\nWash the white clothes on Monday and put them on the stone heap; wash \\nthe color clothes on Tuesd ay and put them on the clothesline to dry; don’t\",\n",
              " '7 \\n Girl \\nby Jamaica Kincaid  \\n \\nWash the white clothes on Monday and put them on the stone heap; wash \\nthe color clothes on Tuesd ay and put them on the clothesline to dry; don’t \\nwalk barehead in the hot sun; cook pumpkin fritters1 in very hot sweet oil; \\nsoak your little cloths right after you take them off; when buying cotton to \\nmake yourself a nice blouse, be sure that it doesn’t h ave gum2 on it, \\nbecause that way it won’t hold up well after a wash; soak salt fish overnight \\nbefore you cook it; is it true that you sing benna3 in Sunday school?; always \\neat your food in such a way that it won’t turn someone else’s stomach; on \\nSundays tr y to walk like a lady and not like the slut you are so bent on \\nbecoming; don’t sing benna in Sunday school; you mustn’t speak to wharf -',\n",
              " 'Sundays tr y to walk like a lady and not like the slut you are so bent on \\nbecoming; don’t sing benna in Sunday school; you mustn’t speak to wharf -\\nrat boys, not even to give directions; don’t eat fruits on the street – flies will \\nfollow you; but I don’t sing benna on Sundays at all and never in Sunday \\nschool; this is how to sew on a button; this is how to make a button -hole for \\nthe button you have just sewed on; this is how to hem a dress when you see \\nthe hem coming down and so to prevent yourself from looking like the  slut \\nI know you are so bent on becoming; this is how you iron your father’s \\nkhaki shirt so that it doesn’t have a crease; this is how you iron your \\nfather’s khaki pants so that they don’t have a crease; this is how you grow']"
            ]
          },
          "metadata": {},
          "execution_count": 26
        }
      ]
    },
    {
      "cell_type": "code",
      "source": [
        "\n",
        "astra_vector_store.add_texts(texts[:50])\n",
        "\n",
        "print(\"Inserted %i headlines.\" % len(texts[:50]))\n",
        "\n",
        "astra_vector_index = VectorStoreIndexWrapper(vectorstore=astra_vector_store)"
      ],
      "metadata": {
        "colab": {
          "base_uri": "https://localhost:8080/"
        },
        "id": "88Dn4RAA-46K",
        "outputId": "2ad7e5c3-03a9-4087-f452-631122f7e61e"
      },
      "execution_count": 27,
      "outputs": [
        {
          "output_type": "stream",
          "name": "stdout",
          "text": [
            "Inserted 50 headlines.\n"
          ]
        }
      ]
    },
    {
      "cell_type": "code",
      "source": [
        "first_question = True\n",
        "while True:\n",
        "    if first_question:\n",
        "        query_text = input(\"\\nEnter your question (or type 'quit' to exit): \").strip()\n",
        "    else:\n",
        "        query_text = input(\"\\nWhat's your next question (or type 'quit' to exit): \").strip()\n",
        "\n",
        "    if query_text.lower() == \"quit\":\n",
        "        break\n",
        "\n",
        "    if query_text == \"\":\n",
        "        continue\n",
        "\n",
        "    first_question = False\n",
        "\n",
        "    print(\"\\nQUESTION: \\\"%s\\\"\" % query_text)\n",
        "    answer = astra_vector_index.query(query_text, llm=llm).strip()\n",
        "    print(\"ANSWER: \\\"%s\\\"\\n\" % answer)\n",
        "\n",
        "    print(\"FIRST DOCUMENTS BY RELEVANCE:\")\n",
        "    for doc, score in astra_vector_store.similarity_search_with_score(query_text, k=4):\n",
        "        print(\"    [%0.4f] \\\"%s ...\\\"\" % (score, doc.page_content[:84]))"
      ],
      "metadata": {
        "id": "v0qYIicy-487",
        "colab": {
          "base_uri": "https://localhost:8080/"
        },
        "outputId": "c1126601-5314-441e-a902-6d3658759b04"
      },
      "execution_count": 28,
      "outputs": [
        {
          "output_type": "stream",
          "name": "stdout",
          "text": [
            "\n",
            "Enter your question (or type 'quit' to exit): What had the old man in \"A Clean, Well-Lighted Place\" recently tried to do?\n",
            "\n",
            "QUESTION: \"What had the old man in \"A Clean, Well-Lighted Place\" recently tried to do?\"\n"
          ]
        },
        {
          "output_type": "stream",
          "name": "stderr",
          "text": [
            "WARNING:cassandra.protocol:Server warning: Top-K queries can only be run with consistency level ONE / LOCAL_ONE / NODE_LOCAL. Consistency level LOCAL_QUORUM was requested. Downgrading the consistency level to LOCAL_ONE.\n"
          ]
        },
        {
          "output_type": "stream",
          "name": "stdout",
          "text": [
            "ANSWER: \"The old man had recently tried to commit suicide.\"\n",
            "\n",
            "FIRST DOCUMENTS BY RELEVANCE:\n"
          ]
        },
        {
          "output_type": "stream",
          "name": "stderr",
          "text": [
            "WARNING:cassandra.protocol:Server warning: Top-K queries can only be run with consistency level ONE / LOCAL_ONE / NODE_LOCAL. Consistency level LOCAL_QUORUM was requested. Downgrading the consistency level to LOCAL_ONE.\n"
          ]
        },
        {
          "name": "stdout",
          "output_type": "stream",
          "text": [
            "    [0.9199] \"windows, over the bags of peat moss and aluminum lawn furniture stacked on \n",
            "the pave ...\"\n",
            "    [0.9198] \"windows, over the bags of peat moss and aluminum lawn furniture stacked on \n",
            "the pave ...\"\n",
            "    [0.9174] \"the street was dusty; but at night the dew settled the dust and the old man \n",
            "liked t ...\"\n",
            "    [0.9174] \"the street was dusty; but at night the dew settled the dust and the old man \n",
            "liked t ...\"\n",
            "\n",
            "What's your next question (or type 'quit' to exit): quit\n"
          ]
        }
      ]
    },
    {
      "cell_type": "code",
      "source": [],
      "metadata": {
        "id": "rmuWQVEw-4_g"
      },
      "execution_count": null,
      "outputs": []
    },
    {
      "cell_type": "code",
      "source": [],
      "metadata": {
        "id": "pscmiaHs-5CN"
      },
      "execution_count": null,
      "outputs": []
    },
    {
      "cell_type": "code",
      "source": [],
      "metadata": {
        "id": "yMV6J26h-5EV"
      },
      "execution_count": null,
      "outputs": []
    },
    {
      "cell_type": "code",
      "source": [],
      "metadata": {
        "id": "tG8OG1y4-5LQ"
      },
      "execution_count": null,
      "outputs": []
    },
    {
      "cell_type": "code",
      "source": [],
      "metadata": {
        "id": "d62h_dIrjay0"
      },
      "execution_count": null,
      "outputs": []
    }
  ],
  "metadata": {
    "colab": {
      "provenance": []
    },
    "kernelspec": {
      "display_name": "Python 3",
      "name": "python3"
    }
  },
  "nbformat": 4,
  "nbformat_minor": 0
}